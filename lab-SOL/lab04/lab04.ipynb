{
 "cells": [
  {
   "cell_type": "code",
   "execution_count": 1,
   "metadata": {
    "deletable": false,
    "editable": false
   },
   "outputs": [],
   "source": [
    "# Initialize Otter\n",
    "import otter\n",
    "grader = otter.Notebook(\"lab04.ipynb\")"
   ]
  },
  {
   "cell_type": "markdown",
   "metadata": {
    "nbgrader": {
     "grade": false,
     "grade_id": "objectives",
     "locked": true,
     "schema_version": 2,
     "solution": false
    },
    "tags": []
   },
   "source": [
    "# Lab 4: Visualization, Transformations, and KDEs\n",
    "\n",
    "### Objective\n",
    "In this lab, you will get some practice plotting, applying data transformations, and working with Kernel Density Estimators (KDEs). We will be working with data from the World Bank containing various statistics for countries and territories around the world. \n",
    "\n",
    "To receive credit for a lab, answer all questions correctly and submit before the deadline.\n",
    "\n",
    "**The on-time deadline is Tuesday, September 26, 11:59 PM. Please read the syllabus for the grace period policy. No late submissions beyond the grace period will be accepted.**"
   ]
  },
  {
   "cell_type": "markdown",
   "metadata": {},
   "source": [
    "### Collaboration Policy\n",
    "\n",
    "Data science is a collaborative activity. While you may talk with others about the labs, we ask that you **write your solutions individually**. If you do discuss the assignments with others, please **include their names** in the following cell:"
   ]
  },
  {
   "cell_type": "markdown",
   "metadata": {},
   "source": [
    "*List collaborators here:*"
   ]
  },
  {
   "cell_type": "markdown",
   "metadata": {},
   "source": [
    "### Lab Walkthrough\n",
    "In addition to the lab notebook, we have also released a prerecorded walkthrough video of the lab. This playlist includes a walkthrough for every question in the lab. We encourage you to reference this video as you work through the lab. Run the cell below to display the video.\n",
    "\n",
    "\n",
    "**Note:** These videos were recorded in Spring 2023. There may be slight inconsistencies between the version you are viewing and the version used in the recording, but the content is identical."
   ]
  },
  {
   "cell_type": "code",
   "execution_count": 2,
   "metadata": {},
   "outputs": [
    {
     "data": {
      "text/html": [
       "\n",
       "        <iframe\n",
       "            width=\"400\"\n",
       "            height=\"300\"\n",
       "            src=\"https://www.youtube.com/embed/v=2Jd1edAOT4E?list=PLQCcNQgUcDfp1e51PkXRnvBI3A7vvEhGd&istType=playlist\"\n",
       "            frameborder=\"0\"\n",
       "            allowfullscreen\n",
       "        ></iframe>\n",
       "        "
      ],
      "text/plain": [
       "<IPython.lib.display.YouTubeVideo at 0x7fb60354d850>"
      ]
     },
     "execution_count": 2,
     "metadata": {},
     "output_type": "execute_result"
    }
   ],
   "source": [
    "from IPython.display import YouTubeVideo\n",
    "\n",
    "YouTubeVideo(\"v=2Jd1edAOT4E\", list='PLQCcNQgUcDfp1e51PkXRnvBI3A7vvEhGd', istType = 'playlist')"
   ]
  },
  {
   "cell_type": "code",
   "execution_count": 3,
   "metadata": {
    "_cell_guid": "33c63379-d85b-4638-8183-d008fdb96de7",
    "_uuid": "7ad7f9f24df7dba8ac92d234890835f6b9970834",
    "nbgrader": {
     "grade": false,
     "grade_id": "imports",
     "locked": true,
     "schema_version": 2,
     "solution": false
    }
   },
   "outputs": [],
   "source": [
    "import pandas as pd\n",
    "import numpy as np\n",
    "import seaborn as sns\n",
    "import matplotlib.pyplot as plt\n",
    "from IPython.display import display, Markdown, Latex\n",
    "\n",
    "plt.style.use('fivethirtyeight') # Use plt.style.available to see more styles\n",
    "sns.set()\n",
    "sns.set_context(\"talk\")\n",
    "%matplotlib inline"
   ]
  },
  {
   "cell_type": "markdown",
   "metadata": {},
   "source": [
    "<br/>\n",
    "<hr style=\"border: 5px solid #003262;\" />\n",
    "<hr style=\"border: 1px solid #fdb515;\" />"
   ]
  },
  {
   "cell_type": "markdown",
   "metadata": {
    "nbgrader": {
     "grade": false,
     "grade_id": "q0",
     "locked": true,
     "schema_version": 2,
     "solution": false
    }
   },
   "source": [
    "## Loading Data"
   ]
  },
  {
   "cell_type": "markdown",
   "metadata": {
    "nbgrader": {
     "grade": false,
     "grade_id": "download-info-2",
     "locked": true,
     "schema_version": 2,
     "solution": false
    }
   },
   "source": [
    "Let's load some World Bank data into a `pd.DataFrame` object named ```wb```."
   ]
  },
  {
   "cell_type": "code",
   "execution_count": 4,
   "metadata": {
    "nbgrader": {
     "grade": false,
     "grade_id": "data",
     "locked": true,
     "schema_version": 2,
     "solution": false
    }
   },
   "outputs": [
    {
     "data": {
      "text/html": [
       "<div>\n",
       "<style scoped>\n",
       "    .dataframe tbody tr th:only-of-type {\n",
       "        vertical-align: middle;\n",
       "    }\n",
       "\n",
       "    .dataframe tbody tr th {\n",
       "        vertical-align: top;\n",
       "    }\n",
       "\n",
       "    .dataframe thead th {\n",
       "        text-align: right;\n",
       "    }\n",
       "</style>\n",
       "<table border=\"1\" class=\"dataframe\">\n",
       "  <thead>\n",
       "    <tr style=\"text-align: right;\">\n",
       "      <th></th>\n",
       "      <th>Primary completion rate: Male: % of relevant age group: 2015</th>\n",
       "      <th>Primary completion rate: Female: % of relevant age group: 2015</th>\n",
       "      <th>Lower secondary completion rate: Male: % of relevant age group: 2015</th>\n",
       "      <th>Lower secondary completion rate: Female: % of relevant age group: 2015</th>\n",
       "      <th>Youth literacy rate: Male: % of ages 15-24: 2005-14</th>\n",
       "      <th>Youth literacy rate: Female: % of ages 15-24: 2005-14</th>\n",
       "      <th>Adult literacy rate: Male: % ages 15 and older: 2005-14</th>\n",
       "      <th>Adult literacy rate: Female: % ages 15 and older: 2005-14</th>\n",
       "      <th>Students at lowest proficiency on PISA: Mathematics: % of 15 year-olds: 2015</th>\n",
       "      <th>Students at lowest proficiency on PISA: Reading: % of 15 year-olds: 2015</th>\n",
       "      <th>...</th>\n",
       "      <th>Access to improved sanitation facilities: % of population: 1990</th>\n",
       "      <th>Access to improved sanitation facilities: % of population: 2015</th>\n",
       "      <th>Child immunization rate: Measles: % of children ages 12-23 months: 2015</th>\n",
       "      <th>Child immunization rate: DTP3: % of children ages 12-23 months: 2015</th>\n",
       "      <th>Children with acute respiratory infection taken to health provider: % of children under age 5 with ARI: 2009-2016</th>\n",
       "      <th>Children with diarrhea who received oral rehydration and continuous feeding: % of children under age 5 with diarrhea: 2009-2016</th>\n",
       "      <th>Children sleeping under treated bed nets: % of children under age 5: 2009-2016</th>\n",
       "      <th>Children with fever receiving antimalarial drugs: % of children under age 5 with fever: 2009-2016</th>\n",
       "      <th>Tuberculosis: Treatment success rate: % of new cases: 2014</th>\n",
       "      <th>Tuberculosis: Cases detection rate: % of new estimated cases: 2015</th>\n",
       "    </tr>\n",
       "  </thead>\n",
       "  <tbody>\n",
       "    <tr>\n",
       "      <th>Afghanistan</th>\n",
       "      <td>NaN</td>\n",
       "      <td>NaN</td>\n",
       "      <td>NaN</td>\n",
       "      <td>NaN</td>\n",
       "      <td>62.0</td>\n",
       "      <td>32.0</td>\n",
       "      <td>45.0</td>\n",
       "      <td>18.0</td>\n",
       "      <td>NaN</td>\n",
       "      <td>NaN</td>\n",
       "      <td>...</td>\n",
       "      <td>21.0</td>\n",
       "      <td>32.0</td>\n",
       "      <td>68.0</td>\n",
       "      <td>78.0</td>\n",
       "      <td>62.0</td>\n",
       "      <td>41.0</td>\n",
       "      <td>4.6</td>\n",
       "      <td>11.8</td>\n",
       "      <td>87.0</td>\n",
       "      <td>58.0</td>\n",
       "    </tr>\n",
       "    <tr>\n",
       "      <th>Albania</th>\n",
       "      <td>108.0</td>\n",
       "      <td>105.0</td>\n",
       "      <td>97.0</td>\n",
       "      <td>97.0</td>\n",
       "      <td>99.0</td>\n",
       "      <td>99.0</td>\n",
       "      <td>98.0</td>\n",
       "      <td>96.0</td>\n",
       "      <td>26.0</td>\n",
       "      <td>7.0</td>\n",
       "      <td>...</td>\n",
       "      <td>78.0</td>\n",
       "      <td>93.0</td>\n",
       "      <td>98.0</td>\n",
       "      <td>98.0</td>\n",
       "      <td>70.0</td>\n",
       "      <td>63.0</td>\n",
       "      <td>NaN</td>\n",
       "      <td>NaN</td>\n",
       "      <td>88.0</td>\n",
       "      <td>76.0</td>\n",
       "    </tr>\n",
       "    <tr>\n",
       "      <th>Algeria</th>\n",
       "      <td>106.0</td>\n",
       "      <td>105.0</td>\n",
       "      <td>68.0</td>\n",
       "      <td>85.0</td>\n",
       "      <td>96.0</td>\n",
       "      <td>92.0</td>\n",
       "      <td>83.0</td>\n",
       "      <td>68.0</td>\n",
       "      <td>51.0</td>\n",
       "      <td>11.0</td>\n",
       "      <td>...</td>\n",
       "      <td>80.0</td>\n",
       "      <td>88.0</td>\n",
       "      <td>95.0</td>\n",
       "      <td>95.0</td>\n",
       "      <td>66.0</td>\n",
       "      <td>42.0</td>\n",
       "      <td>NaN</td>\n",
       "      <td>NaN</td>\n",
       "      <td>88.0</td>\n",
       "      <td>80.0</td>\n",
       "    </tr>\n",
       "    <tr>\n",
       "      <th>American Samoa</th>\n",
       "      <td>NaN</td>\n",
       "      <td>NaN</td>\n",
       "      <td>NaN</td>\n",
       "      <td>NaN</td>\n",
       "      <td>NaN</td>\n",
       "      <td>NaN</td>\n",
       "      <td>NaN</td>\n",
       "      <td>NaN</td>\n",
       "      <td>NaN</td>\n",
       "      <td>NaN</td>\n",
       "      <td>...</td>\n",
       "      <td>61.0</td>\n",
       "      <td>63.0</td>\n",
       "      <td>NaN</td>\n",
       "      <td>NaN</td>\n",
       "      <td>NaN</td>\n",
       "      <td>NaN</td>\n",
       "      <td>NaN</td>\n",
       "      <td>NaN</td>\n",
       "      <td>NaN</td>\n",
       "      <td>87.0</td>\n",
       "    </tr>\n",
       "    <tr>\n",
       "      <th>Andorra</th>\n",
       "      <td>NaN</td>\n",
       "      <td>NaN</td>\n",
       "      <td>NaN</td>\n",
       "      <td>NaN</td>\n",
       "      <td>NaN</td>\n",
       "      <td>NaN</td>\n",
       "      <td>NaN</td>\n",
       "      <td>NaN</td>\n",
       "      <td>NaN</td>\n",
       "      <td>NaN</td>\n",
       "      <td>...</td>\n",
       "      <td>100.0</td>\n",
       "      <td>100.0</td>\n",
       "      <td>96.0</td>\n",
       "      <td>97.0</td>\n",
       "      <td>NaN</td>\n",
       "      <td>NaN</td>\n",
       "      <td>NaN</td>\n",
       "      <td>NaN</td>\n",
       "      <td>83.0</td>\n",
       "      <td>87.0</td>\n",
       "    </tr>\n",
       "  </tbody>\n",
       "</table>\n",
       "<p>5 rows × 45 columns</p>\n",
       "</div>"
      ],
      "text/plain": [
       "                Primary completion rate: Male: % of relevant age group: 2015  \\\n",
       "Afghanistan                                                   NaN              \n",
       "Albania                                                     108.0              \n",
       "Algeria                                                     106.0              \n",
       "American Samoa                                                NaN              \n",
       "Andorra                                                       NaN              \n",
       "\n",
       "                Primary completion rate: Female: % of relevant age group: 2015  \\\n",
       "Afghanistan                                                   NaN                \n",
       "Albania                                                     105.0                \n",
       "Algeria                                                     105.0                \n",
       "American Samoa                                                NaN                \n",
       "Andorra                                                       NaN                \n",
       "\n",
       "                Lower secondary completion rate: Male: % of relevant age group: 2015  \\\n",
       "Afghanistan                                                   NaN                      \n",
       "Albania                                                      97.0                      \n",
       "Algeria                                                      68.0                      \n",
       "American Samoa                                                NaN                      \n",
       "Andorra                                                       NaN                      \n",
       "\n",
       "                Lower secondary completion rate: Female: % of relevant age group: 2015  \\\n",
       "Afghanistan                                                   NaN                        \n",
       "Albania                                                      97.0                        \n",
       "Algeria                                                      85.0                        \n",
       "American Samoa                                                NaN                        \n",
       "Andorra                                                       NaN                        \n",
       "\n",
       "                Youth literacy rate: Male: % of ages 15-24: 2005-14  \\\n",
       "Afghanistan                                                  62.0     \n",
       "Albania                                                      99.0     \n",
       "Algeria                                                      96.0     \n",
       "American Samoa                                                NaN     \n",
       "Andorra                                                       NaN     \n",
       "\n",
       "                Youth literacy rate: Female: % of ages 15-24: 2005-14  \\\n",
       "Afghanistan                                                  32.0       \n",
       "Albania                                                      99.0       \n",
       "Algeria                                                      92.0       \n",
       "American Samoa                                                NaN       \n",
       "Andorra                                                       NaN       \n",
       "\n",
       "                Adult literacy rate: Male: % ages 15 and older: 2005-14  \\\n",
       "Afghanistan                                                  45.0         \n",
       "Albania                                                      98.0         \n",
       "Algeria                                                      83.0         \n",
       "American Samoa                                                NaN         \n",
       "Andorra                                                       NaN         \n",
       "\n",
       "                Adult literacy rate: Female: % ages 15 and older: 2005-14  \\\n",
       "Afghanistan                                                  18.0           \n",
       "Albania                                                      96.0           \n",
       "Algeria                                                      68.0           \n",
       "American Samoa                                                NaN           \n",
       "Andorra                                                       NaN           \n",
       "\n",
       "                Students at lowest proficiency on PISA: Mathematics: % of 15 year-olds: 2015  \\\n",
       "Afghanistan                                                   NaN                              \n",
       "Albania                                                      26.0                              \n",
       "Algeria                                                      51.0                              \n",
       "American Samoa                                                NaN                              \n",
       "Andorra                                                       NaN                              \n",
       "\n",
       "                Students at lowest proficiency on PISA: Reading: % of 15 year-olds: 2015  \\\n",
       "Afghanistan                                                   NaN                          \n",
       "Albania                                                       7.0                          \n",
       "Algeria                                                      11.0                          \n",
       "American Samoa                                                NaN                          \n",
       "Andorra                                                       NaN                          \n",
       "\n",
       "                ...  \\\n",
       "Afghanistan     ...   \n",
       "Albania         ...   \n",
       "Algeria         ...   \n",
       "American Samoa  ...   \n",
       "Andorra         ...   \n",
       "\n",
       "                Access to improved sanitation facilities: % of population: 1990  \\\n",
       "Afghanistan                                                  21.0                 \n",
       "Albania                                                      78.0                 \n",
       "Algeria                                                      80.0                 \n",
       "American Samoa                                               61.0                 \n",
       "Andorra                                                     100.0                 \n",
       "\n",
       "                Access to improved sanitation facilities: % of population: 2015  \\\n",
       "Afghanistan                                                  32.0                 \n",
       "Albania                                                      93.0                 \n",
       "Algeria                                                      88.0                 \n",
       "American Samoa                                               63.0                 \n",
       "Andorra                                                     100.0                 \n",
       "\n",
       "                Child immunization rate: Measles: % of children ages 12-23 months: 2015  \\\n",
       "Afghanistan                                                  68.0                         \n",
       "Albania                                                      98.0                         \n",
       "Algeria                                                      95.0                         \n",
       "American Samoa                                                NaN                         \n",
       "Andorra                                                      96.0                         \n",
       "\n",
       "                Child immunization rate: DTP3: % of children ages 12-23 months: 2015  \\\n",
       "Afghanistan                                                  78.0                      \n",
       "Albania                                                      98.0                      \n",
       "Algeria                                                      95.0                      \n",
       "American Samoa                                                NaN                      \n",
       "Andorra                                                      97.0                      \n",
       "\n",
       "                Children with acute respiratory infection taken to health provider: % of children under age 5 with ARI: 2009-2016  \\\n",
       "Afghanistan                                                  62.0                                                                   \n",
       "Albania                                                      70.0                                                                   \n",
       "Algeria                                                      66.0                                                                   \n",
       "American Samoa                                                NaN                                                                   \n",
       "Andorra                                                       NaN                                                                   \n",
       "\n",
       "                Children with diarrhea who received oral rehydration and continuous feeding: % of children under age 5 with diarrhea: 2009-2016  \\\n",
       "Afghanistan                                                  41.0                                                                                 \n",
       "Albania                                                      63.0                                                                                 \n",
       "Algeria                                                      42.0                                                                                 \n",
       "American Samoa                                                NaN                                                                                 \n",
       "Andorra                                                       NaN                                                                                 \n",
       "\n",
       "                Children sleeping under treated bed nets: % of children under age 5: 2009-2016  \\\n",
       "Afghanistan                                                   4.6                                \n",
       "Albania                                                       NaN                                \n",
       "Algeria                                                       NaN                                \n",
       "American Samoa                                                NaN                                \n",
       "Andorra                                                       NaN                                \n",
       "\n",
       "                Children with fever receiving antimalarial drugs: % of children under age 5 with fever: 2009-2016  \\\n",
       "Afghanistan                                                  11.8                                                   \n",
       "Albania                                                       NaN                                                   \n",
       "Algeria                                                       NaN                                                   \n",
       "American Samoa                                                NaN                                                   \n",
       "Andorra                                                       NaN                                                   \n",
       "\n",
       "                Tuberculosis: Treatment success rate: % of new cases: 2014  \\\n",
       "Afghanistan                                                  87.0            \n",
       "Albania                                                      88.0            \n",
       "Algeria                                                      88.0            \n",
       "American Samoa                                                NaN            \n",
       "Andorra                                                      83.0            \n",
       "\n",
       "                Tuberculosis: Cases detection rate: % of new estimated cases: 2015  \n",
       "Afghanistan                                                  58.0                   \n",
       "Albania                                                      76.0                   \n",
       "Algeria                                                      80.0                   \n",
       "American Samoa                                               87.0                   \n",
       "Andorra                                                      87.0                   \n",
       "\n",
       "[5 rows x 45 columns]"
      ]
     },
     "execution_count": 4,
     "metadata": {},
     "output_type": "execute_result"
    }
   ],
   "source": [
    "wb = pd.read_csv(\"data/world_bank_misc.csv\", index_col=0)\n",
    "wb.head()"
   ]
  },
  {
   "cell_type": "markdown",
   "metadata": {
    "nbgrader": {
     "grade": false,
     "grade_id": "explore-cols",
     "locked": true,
     "schema_version": 2,
     "solution": false
    }
   },
   "source": [
    "This table contains some interesting columns.  Take a look:"
   ]
  },
  {
   "cell_type": "code",
   "execution_count": 5,
   "metadata": {
    "nbgrader": {
     "grade": false,
     "grade_id": "explore-cols-code",
     "locked": true,
     "schema_version": 2,
     "solution": false
    }
   },
   "outputs": [
    {
     "data": {
      "text/markdown": [
       "1. Primary completion rate: Male: % of relevant age group: 2015\n",
       "2. Primary completion rate: Female: % of relevant age group: 2015\n",
       "3. Lower secondary completion rate: Male: % of relevant age group: 2015\n",
       "4. Lower secondary completion rate: Female: % of relevant age group: 2015\n",
       "5. Youth literacy rate: Male: % of ages 15-24: 2005-14\n",
       "6. Youth literacy rate: Female: % of ages 15-24: 2005-14\n",
       "7. Adult literacy rate: Male: % ages 15 and older: 2005-14\n",
       "8. Adult literacy rate: Female: % ages 15 and older: 2005-14\n",
       "9. Students at lowest proficiency on PISA: Mathematics: % of 15 year-olds: 2015\n",
       "10. Students at lowest proficiency on PISA: Reading: % of 15 year-olds: 2015\n",
       "11. Students at lowest proficiency on PISA: Science: % of 15 year-olds: 2015\n",
       "12. Population: millions: 2016\n",
       "13. Surface area: sq. km thousands: 2016\n",
       "14. Population density: people per sq. km: 2016\n",
       "15. Gross national income, Atlas method: \\$ billions: 2016\n",
       "16. Gross national income per capita, Atlas method: \\$: 2016\n",
       "17. Purchasing power parity gross national income: \\$ billions: 2016\n",
       "18. per capita: \\$: 2016\n",
       "19. Gross domestic product: % growth : 2016\n",
       "20. per capita: % growth: 2016\n",
       "21. Prevalence of smoking: Male: % of adults: 2015\n",
       "22. Prevalence of smoking: Female: % of adults: 2015\n",
       "23. Incidence of tuberculosis: per 100,000 people: 2015\n",
       "24. Prevalence of diabetes: % of population ages 20 to 79: 2015\n",
       "25. Incidence of HIV: Total: % of uninfected population ages 15-49: 2015\n",
       "26. Prevalence of HIV: Total: % of population ages 15-49: 2015\n",
       "27. Prevalence of HIV: Women's share of population ages 15+ living with HIV: %: 2015\n",
       "28. Prevalence of HIV: Youth, Male: % of population ages 15-24: 2015\n",
       "29. Prevalence of HIV: Youth, Female: % of population ages 15-24: 2015\n",
       "30. Antiretroviral therapy coverage: % of people living with HIV: 2015\n",
       "31. Cause of death: Communicable diseases and maternal, prenatal, and nutrition conditions: % of population: 2015\n",
       "32. Cause of death: Non-communicable diseases: % of population: 2015\n",
       "33. Cause of death: Injuries: % of population: 2015\n",
       "34. Access to an improved water source: % of population: 1990\n",
       "35. Access to an improved water source: % of population: 2015\n",
       "36. Access to improved sanitation facilities: % of population: 1990\n",
       "37. Access to improved sanitation facilities: % of population: 2015\n",
       "38. Child immunization rate: Measles: % of children ages 12-23 months: 2015\n",
       "39. Child immunization rate: DTP3: % of children ages 12-23 months: 2015\n",
       "40. Children with acute respiratory infection taken to health provider: % of children under age 5 with ARI: 2009-2016\n",
       "41. Children with diarrhea who received oral rehydration and continuous feeding: % of children under age 5 with diarrhea: 2009-2016\n",
       "42. Children sleeping under treated bed nets: % of children under age 5: 2009-2016\n",
       "43. Children with fever receiving antimalarial drugs: % of children under age 5 with fever: 2009-2016\n",
       "44. Tuberculosis: Treatment success rate: % of new cases: 2014\n",
       "45. Tuberculosis: Cases detection rate: % of new estimated cases: 2015"
      ],
      "text/plain": [
       "<IPython.core.display.Markdown object>"
      ]
     },
     "metadata": {},
     "output_type": "display_data"
    }
   ],
   "source": [
    "display(Markdown('\\n'.join(fr'{i + 1}. {c}'.replace('$', r'\\$') for i, c in enumerate(wb.columns))))"
   ]
  },
  {
   "cell_type": "markdown",
   "metadata": {
    "nbgrader": {
     "grade": false,
     "grade_id": "part1",
     "locked": true,
     "schema_version": 2,
     "solution": false
    }
   },
   "source": [
    "<hr style=\"border: 1px solid #fdb515;\" />\n",
    "\n",
    "# Part 1: Scaling\n",
    "In the first part of this lab, we will look at the distribution of values for the *combined adult literacy rate* as well as *the gross national income per capita*. The code below creates a copy of the `DataFrame` that contains only the two `Series` we want and then drops all rows that contain `null` values in either column.\n",
    "\n",
    "**Note:** For this lab, we are dropping `null` values without investigating them further. However, this is generally not the best practice and can severely affect our analyses.\n",
    "\n",
    "Here, the combined literacy rate is the sum of the female and male literacy rates as reported by the World Bank. 0 represents no literacy, and 200 represents total literacy by both genders that are included in the World Bank's dataset.\n",
    "\n",
    "In this lab, we will be using the `sns.histplot`, `sns.rugplot`, and `sns.displot` functions to visualize distributions. You may find it useful to consult the `seaborn` documentation on [distributions](https://seaborn.pydata.org/tutorial/distributions.html) and [functions](https://seaborn.pydata.org/tutorial/function_overview.html) for more details."
   ]
  },
  {
   "cell_type": "code",
   "execution_count": 6,
   "metadata": {
    "nbgrader": {
     "grade": false,
     "grade_id": "q1-answer",
     "locked": true,
     "schema_version": 2,
     "solution": false
    },
    "tags": [
     "student"
    ]
   },
   "outputs": [
    {
     "name": "stdout",
     "output_type": "stream",
     "text": [
      "Original records: 216\n",
      "Final records: 147\n"
     ]
    }
   ],
   "source": [
    "# Run this next line to create a DataFrame with the appropriate index; no further action is needed.\n",
    "df = pd.DataFrame(index=wb.index)\n",
    "\n",
    "# Run this next line to create copies of the Series we want; no further action is needed.\n",
    "# The \"\\\" syntax lets us continue to write on the next line.\n",
    "df['lit'] = wb['Adult literacy rate: Female: % ages 15 and older: 2005-14'] \\\n",
    "            + wb[\"Adult literacy rate: Male: % ages 15 and older: 2005-14\"]\n",
    "df['inc'] = wb['Gross national income per capita, Atlas method: $: 2016']\n",
    "\n",
    "# Run this next line to drop all records that have a NaN value in either column; no further action is needed.\n",
    "df.dropna(inplace=True)\n",
    "print(\"Original records:\", len(wb))\n",
    "print(\"Final records:\", len(df))"
   ]
  },
  {
   "cell_type": "code",
   "execution_count": 7,
   "metadata": {
    "nbgrader": {
     "grade": false,
     "grade_id": "cell-dcd091fc26fffb77",
     "locked": true,
     "schema_version": 2,
     "solution": false
    }
   },
   "outputs": [
    {
     "data": {
      "text/html": [
       "<div>\n",
       "<style scoped>\n",
       "    .dataframe tbody tr th:only-of-type {\n",
       "        vertical-align: middle;\n",
       "    }\n",
       "\n",
       "    .dataframe tbody tr th {\n",
       "        vertical-align: top;\n",
       "    }\n",
       "\n",
       "    .dataframe thead th {\n",
       "        text-align: right;\n",
       "    }\n",
       "</style>\n",
       "<table border=\"1\" class=\"dataframe\">\n",
       "  <thead>\n",
       "    <tr style=\"text-align: right;\">\n",
       "      <th></th>\n",
       "      <th>lit</th>\n",
       "      <th>inc</th>\n",
       "    </tr>\n",
       "  </thead>\n",
       "  <tbody>\n",
       "    <tr>\n",
       "      <th>Afghanistan</th>\n",
       "      <td>63.0</td>\n",
       "      <td>580.0</td>\n",
       "    </tr>\n",
       "    <tr>\n",
       "      <th>Albania</th>\n",
       "      <td>194.0</td>\n",
       "      <td>4250.0</td>\n",
       "    </tr>\n",
       "    <tr>\n",
       "      <th>Algeria</th>\n",
       "      <td>151.0</td>\n",
       "      <td>4270.0</td>\n",
       "    </tr>\n",
       "    <tr>\n",
       "      <th>Angola</th>\n",
       "      <td>142.0</td>\n",
       "      <td>3440.0</td>\n",
       "    </tr>\n",
       "    <tr>\n",
       "      <th>Antigua and Barbuda</th>\n",
       "      <td>197.0</td>\n",
       "      <td>13400.0</td>\n",
       "    </tr>\n",
       "  </tbody>\n",
       "</table>\n",
       "</div>"
      ],
      "text/plain": [
       "                       lit      inc\n",
       "Afghanistan           63.0    580.0\n",
       "Albania              194.0   4250.0\n",
       "Algeria              151.0   4270.0\n",
       "Angola               142.0   3440.0\n",
       "Antigua and Barbuda  197.0  13400.0"
      ]
     },
     "execution_count": 7,
     "metadata": {},
     "output_type": "execute_result"
    }
   ],
   "source": [
    "df.head(5)"
   ]
  },
  {
   "cell_type": "markdown",
   "metadata": {
    "nbgrader": {
     "grade": false,
     "grade_id": "cell-15d94e63e4d461a0",
     "locked": true,
     "schema_version": 2,
     "solution": false
    }
   },
   "source": [
    "<br>\n",
    "\n",
    "---\n",
    "## Question 1a"
   ]
  },
  {
   "cell_type": "markdown",
   "metadata": {
    "nbgrader": {
     "grade": false,
     "grade_id": "cell-30751ff6e5b72286",
     "locked": true,
     "schema_version": 2,
     "solution": false
    }
   },
   "source": [
    "Suppose we wanted to build a histogram of our data to understand the distribution of literacy rates and income per capita individually. We can use [`countplot`](https://seaborn.pydata.org/generated/seaborn.countplot.html) in `seaborn` to create bar charts from categorical data. "
   ]
  },
  {
   "cell_type": "code",
   "execution_count": 8,
   "metadata": {
    "nbgrader": {
     "grade": false,
     "grade_id": "cell-5e0c40ff7263e7df",
     "locked": true,
     "schema_version": 2,
     "solution": false
    }
   },
   "outputs": [
    {
     "data": {
      "image/png": "[encoded data removed]",
      "text/plain": [
       "<Figure size 432x288 with 1 Axes>"
      ]
     },
     "metadata": {
      "needs_background": "light"
     },
     "output_type": "display_data"
    }
   ],
   "source": [
    "sns.countplot(data=df, x=\"lit\")\n",
    "plt.xlabel(\"Combined literacy rate (ages >=15; 2005-2014)\")\n",
    "plt.title('World Bank Combined Adult Literacy Rate');"
   ]
  },
  {
   "cell_type": "code",
   "execution_count": 9,
   "metadata": {},
   "outputs": [
    {
     "data": {
      "image/png": "[encoded data removed]",
      "text/plain": [
       "<Figure size 432x288 with 1 Axes>"
      ]
     },
     "metadata": {
      "needs_background": "light"
     },
     "output_type": "display_data"
    }
   ],
   "source": [
    "sns.countplot(data=df, x=\"inc\")\n",
    "plt.xlabel('Gross national income per capita, Atlas method: $: 2016', fontsize=15)\n",
    "plt.title('World Bank Gross National Income Per Capita');"
   ]
  },
  {
   "cell_type": "markdown",
   "metadata": {
    "deletable": false,
    "editable": false
   },
   "source": [
    "In the cell below, explain why `countplot` is NOT the right tool for visualizing the distribution of our data.\n"
   ]
  },
  {
   "cell_type": "markdown",
   "metadata": {},
   "source": [
    "_Type your answer here, replacing this text._\n",
    "\n",
    "For a continuous variable like income, countplot is not going to give very interesting results.  One should discretize the data by using bins."
   ]
  },
  {
   "cell_type": "markdown",
   "metadata": {
    "deletable": false,
    "editable": false
   },
   "source": [
    "<br>\n",
    "\n",
    "---\n",
    "## Question 1b\n",
    "\n",
    "In the cell below, create a plot of **income per capita** (the second plot above) using the [`histplot`](https://seaborn.pydata.org/generated/seaborn.histplot.html) function. \n",
    "Don't forget to title the plot and label axes!\n",
    "\n",
    "Optional: Create two side-by-side subplots, where the left subplot is **income**, and the right subplot is **literacy**. \n",
    "\n",
    "**Hint:** *Copy and paste from above to start.*"
   ]
  },
  {
   "cell_type": "code",
   "execution_count": 12,
   "metadata": {
    "nbgrader": {
     "grade": true,
     "grade_id": "q2a-answer",
     "locked": false,
     "points": 1,
     "schema_version": 2,
     "solution": true
    },
    "tags": [
     "student"
    ]
   },
   "outputs": [
    {
     "data": {
      "image/png": "[encoded data removed]",
      "text/plain": [
       "<Figure size 432x288 with 1 Axes>"
      ]
     },
     "metadata": {
      "needs_background": "light"
     },
     "output_type": "display_data"
    }
   ],
   "source": [
    "sns.histplot(data=df, x=\"inc\")\n",
    "plt.xlabel('Gross national income per capita, Atlas method: $: 2016', fontsize=15)\n",
    "plt.title('World Bank Gross National Income Per Capita');\n",
    "\n",
    "sns.histplot(data=df, x=\"lit\")\n",
    "plt.xlabel(\"Combined literacy rate (ages >=15; 2005-2014)\")\n",
    "plt.title('World Bank Combined Adult Literacy Rate');"
   ]
  },
  {
   "cell_type": "markdown",
   "metadata": {
    "nbgrader": {
     "grade": false,
     "grade_id": "cell-56f8e35b03f38694",
     "locked": true,
     "schema_version": 2,
     "solution": false
    }
   },
   "source": [
    "You should see histograms that show the counts of how many data points appear in each bin. `displot` uses a heuristic called the [Freedman-Diaconis rule](https://www.jtrive.com/determining-histogram-bin-width-using-the-freedman-diaconis-rule.html) to automatically identify the best bin sizes, though it is possible to set the bins yourself we will not be doing so in this lab.\n",
    "\n",
    "In the cell below, we explore overlaying a `rugplot` on top of a `displot` using `rugplot`. Note that the `rugplot` is hard to see."
   ]
  },
  {
   "cell_type": "code",
   "execution_count": null,
   "metadata": {
    "nbgrader": {
     "grade": true,
     "grade_id": "cell-72d2c195130debd8",
     "locked": false,
     "points": 1,
     "schema_version": 2,
     "solution": true
    }
   },
   "outputs": [],
   "source": [
    "# Run this cell to overlay a rugplot on the displot; no further action is needed.\n",
    "sns.displot(data=df, x=\"inc\")\n",
    "sns.rugplot(data=df, x=\"inc\")\n",
    "plt.xlabel('Gross national income per capita, Atlas method: $: 2016', fontsize=15)\n",
    "plt.title('World Bank Gross National Income Per Capita');"
   ]
  },
  {
   "cell_type": "markdown",
   "metadata": {},
   "source": [
    "In the cell below, we explore overlaying a `rugplot` on top of a `histplot`. One way to make it easier to see the difference between the rug plot and the bars is to set a different color. For example:"
   ]
  },
  {
   "cell_type": "code",
   "execution_count": null,
   "metadata": {},
   "outputs": [],
   "source": [
    "# Run this cell to overlay a rugplot on the histplot; no further action is needed.\n",
    "sns.histplot(data=df, x=\"inc\", color=\"lightsteelblue\")\n",
    "sns.rugplot(data=df, x=\"inc\")\n",
    "plt.xlabel('Gross national income per capita, Atlas method: $: 2016', fontsize=15)\n",
    "plt.title('World Bank Gross National Income Per Capita');"
   ]
  },
  {
   "cell_type": "markdown",
   "metadata": {},
   "source": [
    "There is also another function called `kdeplot`, which plots a Kernel Density Estimate (KDE) as described in class and will be covered in more detail later in this lab. "
   ]
  },
  {
   "cell_type": "markdown",
   "metadata": {},
   "source": [
    "Rather than manually calling `histplot`, `rugplot`, and `kdeplot` to plot histograms, rug plots, and KDE plots, respectively, we can instead modify how we use `displot` to simultaneously generate all three types of plots and adjust colors automatically for visibility. Using the documentation for [`displot`](https://seaborn.pydata.org/generated/seaborn.displot.html) ([link](https://seaborn.pydata.org/generated/seaborn.displot.html)), make a plot of the income data that includes a histogram, rug plot, and KDE plot. "
   ]
  },
  {
   "cell_type": "code",
   "execution_count": null,
   "metadata": {
    "nbgrader": {
     "grade": true,
     "grade_id": "cell-1aaac759f52a2269",
     "locked": false,
     "points": 1,
     "schema_version": 2,
     "solution": true
    }
   },
   "outputs": [],
   "source": [
    "# Run this cell to generate a displot; no further action is needed.\n",
    "sns.displot(data=df, x=\"inc\", rug=True, kde=True)\n",
    "plt.xlabel('Gross national income per capita, Atlas method: $: 2016', fontsize=15)\n",
    "plt.title('World Bank Gross National Income Per Capita');"
   ]
  },
  {
   "cell_type": "markdown",
   "metadata": {},
   "source": [
    "You should see roughly the same histogram as before. However, now you should see an overlaid smooth line. This is the kernel density estimate discussed in class. "
   ]
  },
  {
   "cell_type": "markdown",
   "metadata": {},
   "source": [
    "Above, the y-axis is labeled by the counts. We can also label the y-axis by the density. An example is given below, this time using the literacy data from the beginning of this lab."
   ]
  },
  {
   "cell_type": "code",
   "execution_count": null,
   "metadata": {},
   "outputs": [],
   "source": [
    "# Run this cell to generate a displot; no further action is needed.\n",
    "sns.displot(data=df, x=\"lit\", rug=True, kde=True, stat=\"density\")\n",
    "plt.xlabel(\"Combined adult literacy rate (%) ages >=15; 2005-14\", fontsize=14)\n",
    "plt.title('World Bank Combined Adult Literacy Rate');"
   ]
  },
  {
   "cell_type": "markdown",
   "metadata": {
    "nbgrader": {
     "grade": false,
     "grade_id": "cell-d2ac0f8505508bb9",
     "locked": true,
     "schema_version": 2,
     "solution": false
    }
   },
   "source": [
    "Observations:\n",
    "\n",
    "* You'll also see that the y-axis value is no longer the count. Instead, it is a value such that the total **area** in the histogram is 1. For example, the area of the last bar is approximately $18.67 \\times 0.03 = 0.56$.\n",
    "* The KDE is a smooth estimate of the distribution of the given variable. The area under the KDE is also 1. While it is not obvious from the figure, some of the area under the KDE is beyond 100% literacy. In other words, the KDE is non-zero for values greater than 100%. This, of course, makes no physical sense. Nonetheless, it is a mathematical feature of the KDE.\n",
    "\n",
    "We'll talk more about KDEs later in this lab."
   ]
  },
  {
   "cell_type": "markdown",
   "metadata": {
    "deletable": false,
    "editable": false
   },
   "source": [
    "<br>\n",
    "\n",
    "---\n",
    "## Question 1c\n",
    "\n",
    "Looking at the income data, it is difficult to see the distribution among low-income countries because they are all scrunched up at the left side of the plot. The KDE also has a problem where the density function has a lot of area below 0. \n",
    "\n",
    "Transforming the `inc` data logarithmically gives us a more symmetric distribution of values. This can make it easier to see patterns.\n",
    "\n",
    "In addition, summary statistics like the mean and standard deviation (square root of the variance) are more stable with symmetric distributions.\n",
    "\n",
    "In the cell below, make a distribution plot of `inc` with the data transformed using `np.log10` and set the arguments `kde=True` and `stat='density'`. \n",
    "\n",
    "Don't forget to title the plot and label axes! If your title(s) are too long and get cut off from the image, you can optionally set the `fontsize=` argument to adjust the font size. Take a look at the code above for examples!\n",
    "\n",
    "**Hint:** Seaborn's plotting functions like [`displot`](https://seaborn.pydata.org/generated/seaborn.displot.html) ([link](https://seaborn.pydata.org/generated/seaborn.displot.html)) have quite flexible parameters. Instead of setting `x=` as a column name, you can pass in a `Series` of the data you'd like to visualize."
   ]
  },
  {
   "cell_type": "code",
   "execution_count": null,
   "metadata": {
    "nbgrader": {
     "grade": true,
     "grade_id": "q2c-answer",
     "locked": false,
     "points": 1,
     "schema_version": 2,
     "solution": true
    },
    "tags": [
     "student"
    ]
   },
   "outputs": [],
   "source": [
    "..."
   ]
  },
  {
   "cell_type": "markdown",
   "metadata": {},
   "source": [
    "When a distribution has a long right tail (right-skewed distributions), a log transformation often does a good job of symmetrizing the distribution, as it did here. Long right tails are common with variables that have a lower limit on the values. \n",
    "\n",
    "On the other hand, long left tails are common with distributions of variables that have an upper limit, such as percentages (can't be higher than 100%) and GPAs (can't be higher than 4). That is the case for the literacy rate. Typically taking a power transformation such as squaring or cubing the values can help symmetrize a left-skewed distribution.\n",
    "\n",
    "In the cell below, we will make a distribution plot of `lit` with the data transformed using a power, i.e., raise `lit` to the 2nd, 3rd, and 4th power. We plot the transformation with the 4th power below.\n"
   ]
  },
  {
   "cell_type": "code",
   "execution_count": null,
   "metadata": {},
   "outputs": [],
   "source": [
    "# Run this cell to generate the plot; no further action is needed.\n",
    "ax = sns.displot(data=df, x=df['lit']**4, kde=True, stat='density')\n",
    "plt.xlabel(\"Combined adult literacy rate (%) ages >=15; 2005-2014\", fontsize=14)\n",
    "plt.ylabel('Density')\n",
    "plt.title('World Bank Combined Adult Literacy Rate (4th power)', pad=30);"
   ]
  },
  {
   "cell_type": "markdown",
   "metadata": {
    "deletable": false,
    "editable": false
   },
   "source": [
    "<br>\n",
    "\n",
    "---\n",
    "## Question 1d\n",
    "\n",
    "If we want to examine the relationship between the combined adult literacy rate and the gross national income per capita, we need to make a scatter plot. \n",
    "\n",
    "In the cell below, create a scatter plot of untransformed income per capita and literacy rate using the `sns.scatterplot` function. Make sure to label both axes using `plt.xlabel` and `plt.ylabel`. Don't forget to title the plot and label axes! If your title(s) are too long and get cut off from the image, you can optionally set the `fontsize=` argument to adjust the font size. Take a look at the code above for examples!"
   ]
  },
  {
   "cell_type": "code",
   "execution_count": null,
   "metadata": {
    "tags": []
   },
   "outputs": [],
   "source": [
    "..."
   ]
  },
  {
   "cell_type": "markdown",
   "metadata": {},
   "source": [
    "We can better assess the relationship between two variables when they have been straightened because it is easier for us to recognize linearity.\n",
    "\n",
    "In the cell below, we see a scatter plot of log-transformed income per capita against literacy rate."
   ]
  },
  {
   "cell_type": "code",
   "execution_count": null,
   "metadata": {
    "tags": []
   },
   "outputs": [],
   "source": [
    "sns.scatterplot(data=df, x='lit', y=np.log10(df['inc']))\n",
    "plt.xlabel(\"Combined adult literacy rate (%) ages >=15; 2005-2014\", fontsize=14)\n",
    "plt.ylabel('Gross national income per capita (log scale)', fontsize=15)\n",
    "plt.title('World Bank: Gross National Income Per Capita vs\\n Combined Adult Literacy Rate');"
   ]
  },
  {
   "cell_type": "markdown",
   "metadata": {
    "deletable": false,
    "editable": false
   },
   "source": [
    "This scatter plot looks better. The relationship is closer to linear.\n",
    "\n",
    "We can think of the log-linear relationship between x and y as follows: a constant change in x corresponds to a percent (scaled) change in y.\n",
    "\n",
    "Next, try squaring literacy and taking the log of income. Don't forget to title the plot and label axes! Does the plot look better? \n"
   ]
  },
  {
   "cell_type": "code",
   "execution_count": null,
   "metadata": {
    "tags": []
   },
   "outputs": [],
   "source": [
    "plt.figure(figsize=(10,5))\n",
    "..."
   ]
  },
  {
   "cell_type": "markdown",
   "metadata": {},
   "source": [
    "Choosing the best transformation for a relationship is often a balance between keeping the model simple and straightening the scatter plot."
   ]
  },
  {
   "cell_type": "markdown",
   "metadata": {
    "nbgrader": {
     "grade": false,
     "grade_id": "part2",
     "locked": true,
     "schema_version": 2,
     "solution": false
    },
    "tags": []
   },
   "source": [
    "# Part 2: Kernel Density Estimation\n",
    "\n",
    "In this part of the lab, you will develop a deeper understanding of how kernel density estimation works.\n",
    "\n",
    "### Overview\n",
    "\n",
    "Kernel density estimation is used to estimate a probability density function (i.e., a density curve) from a set of data. Just like a histogram, a density function's total area must sum to 1.\n",
    "\n",
    "KDE centrally revolves around this idea of a \"kernel\". A kernel is a function whose area sums to 1. The three steps involved in building a kernel density estimate are:\n",
    "1. Placing a kernel at each observation,\n",
    "2. Normalizing kernels so that the sum of their areas is 1, and\n",
    "3. Summing all kernels together.\n",
    "\n",
    "The end result is a function that takes in some value `x` and returns a density estimate at the point `x`.\n",
    "\n",
    "When constructing a KDE, there are several choices to make regarding the kernel. Specifically, we need to choose the function we want to use as our kernel, as well as a bandwidth parameter, which tells us how wide or narrow each kernel should be. We will explore these ideas now."
   ]
  },
  {
   "cell_type": "markdown",
   "metadata": {
    "nbgrader": {
     "grade": false,
     "grade_id": "cell-edbcbd6d58848e8b",
     "locked": true,
     "schema_version": 2,
     "solution": false
    }
   },
   "source": [
    "Suppose we have 3 data points with values 2, 4, and 9. We can compute the (useless) histogram with a KDE, as shown below. \n",
    "\n",
    "To understand how KDEs are computed, we need to see the KDE outside the given range. The easiest way to do this is to use an old function called `distplot` [(documentation)](https://seaborn.pydata.org/archive/0.11/generated/seaborn.distplot.html#seaborn.distplot). During the Fall 2023 offering of this course, `distplot` is still a working function in `seaborn`, but it will be removed at a future date. If you get an error that says that `distplot` is not a valid function, sorry, you are too far in the future to do this lab exercise."
   ]
  },
  {
   "cell_type": "code",
   "execution_count": null,
   "metadata": {
    "nbgrader": {
     "grade": false,
     "grade_id": "cell-64844f4047d4220a",
     "locked": true,
     "schema_version": 2,
     "solution": false
    }
   },
   "outputs": [],
   "source": [
    "# Run this cell to create KDE plot and histogram using distplot; no further action is needed.\n",
    "data3pts = np.array([2, 4, 9])\n",
    "sns.distplot(data3pts, kde=True);"
   ]
  },
  {
   "cell_type": "markdown",
   "metadata": {},
   "source": [
    "Using a deprecated function will often result in a `UserWarning`. You may follow their suggestions to adapt your code. In this case, we can use `displot` [(documentation)](https://seaborn.pydata.org/archive/0.11/generated/seaborn.displot.html#seaborn.displot) with some additional parameters. These additional parameters are needed because the default values of `displot` are different from `distplot`; we can manually set them to be the same."
   ]
  },
  {
   "cell_type": "code",
   "execution_count": null,
   "metadata": {},
   "outputs": [],
   "source": [
    "# Run this cell to create KDE plot and histogram using displot; no further action is needed.\n",
    "plt.figure(figsize=(5, 15))\n",
    "sns.displot(data3pts, kde=True, stat=\"density\", kde_kws={\"cut\":4}, bins=2, height=5, aspect=1.5);"
   ]
  },
  {
   "cell_type": "markdown",
   "metadata": {
    "nbgrader": {
     "grade": false,
     "grade_id": "cell-827af143e350db11",
     "locked": true,
     "schema_version": 2,
     "solution": false
    }
   },
   "source": [
    "One question you might be wondering is how the kernel density estimator decides how \"wide\" each point should be. It turns out this is a parameter you can set called `bw`, which stands for bandwidth. For example, the code below gives a bandwidth value of 0.5 to each data point. You'll see the resulting KDE is quite different. Try experimenting with different values of bandwidth and see what happens."
   ]
  },
  {
   "cell_type": "code",
   "execution_count": null,
   "metadata": {
    "nbgrader": {
     "grade": false,
     "grade_id": "cell-912a66ab5da037c2",
     "locked": true,
     "schema_version": 2,
     "solution": false
    },
    "tags": []
   },
   "outputs": [],
   "source": [
    "# Run this cell to plot distplot with the specified bandwidth. Try setting bw to different values.\n",
    "sns.distplot(data3pts, kde=True, kde_kws={\"bw\": 0.5});"
   ]
  },
  {
   "cell_type": "markdown",
   "metadata": {},
   "source": [
    "The equivalent plot using `displot` is provided below."
   ]
  },
  {
   "cell_type": "code",
   "execution_count": null,
   "metadata": {},
   "outputs": [],
   "source": [
    "# Run this cell to plot displot with the specified bandwidth. \n",
    "plt.figure(figsize=(5, 15))\n",
    "sns.displot(data3pts, kde=True, stat=\"density\", kde_kws={\"bw_method\": 0.5, \"cut\":4}, bins=2, height=5, aspect=1.5);"
   ]
  },
  {
   "cell_type": "markdown",
   "metadata": {
    "nbgrader": {
     "grade": false,
     "grade_id": "cell-4b452c13fc1463cd",
     "locked": true,
     "schema_version": 2,
     "solution": false
    }
   },
   "source": [
    "<br>\n",
    "\n",
    "---\n",
    "## Question 2a"
   ]
  },
  {
   "cell_type": "markdown",
   "metadata": {
    "nbgrader": {
     "grade": false,
     "grade_id": "cell-532fe1463a834b05",
     "locked": true,
     "schema_version": 2,
     "solution": false
    }
   },
   "source": [
    "As mentioned above, the kernel density estimate is just the sum of a bunch of copies of the kernel, each centered on our data points. The default kernel used by the `displot` function (as well as `kdeplot`) is the Gaussian kernel, given by:\n",
    "\n",
    "$$\\Large\n",
    "K_\\alpha(x, z) = \\frac{1}{\\sqrt{2 \\pi \\alpha^2}} \\exp\\left(-\\frac{(x - z)^2}{2  \\alpha ^2} \\right)\n",
    "$$"
   ]
  },
  {
   "cell_type": "markdown",
   "metadata": {
    "nbgrader": {
     "grade": false,
     "grade_id": "cell-8cad663e76c2a0b5",
     "locked": true,
     "schema_version": 2,
     "solution": false
    }
   },
   "source": [
    "We've implemented the Gaussian kernel for you in `python` below. Here, `alpha` is the smoothing or bandwidth parameter $\\alpha$ for the KDE, `z` is the center of the Gaussian (i.e., a data point or an array of data points), and `x` is an array of values of the variable whose distribution we are plotting. In other words, `z` represents the center point of our smooth KDE bell curve, while `x` represents the range of values over which we want to generate the KDE plot."
   ]
  },
  {
   "cell_type": "code",
   "execution_count": null,
   "metadata": {
    "nbgrader": {
     "grade": false,
     "grade_id": "cell-a3bcdaccb84140a2",
     "locked": true,
     "schema_version": 2,
     "solution": false
    }
   },
   "outputs": [],
   "source": [
    "def gaussian_kernel(alpha, x, z):\n",
    "    \"\"\"\n",
    "    Compute the Gaussian density estimate for values in x.\n",
    "\n",
    "    Args:\n",
    "        alpha: the smoothing parameter to pass to the kernel.\n",
    "        x: an array of values whose density will be calculated.\n",
    "        z: center of Gaussian.\n",
    "\n",
    "    Returns:\n",
    "        The smoothed estimate at values of x.\n",
    "    \"\"\"    \n",
    "    return 1.0/np.sqrt(2. * np.pi * alpha**2) * np.exp(-(x - z) ** 2 / (2.0 * alpha**2))"
   ]
  },
  {
   "cell_type": "markdown",
   "metadata": {
    "nbgrader": {
     "grade": false,
     "grade_id": "cell-55b4afb9f7caaaa5",
     "locked": true,
     "schema_version": 2,
     "solution": false
    }
   },
   "source": [
    "For example, we can plot the Gaussian kernel centered at 9 with $\\alpha$ = 0.5 as below: "
   ]
  },
  {
   "cell_type": "code",
   "execution_count": null,
   "metadata": {
    "nbgrader": {
     "grade": false,
     "grade_id": "cell-2fcba8c1b7a5e471",
     "locked": true,
     "schema_version": 2,
     "solution": false
    },
    "tags": []
   },
   "outputs": [],
   "source": [
    "xs = np.linspace(-2, 12, 200)\n",
    "alpha = 0.5\n",
    "kde_curve = [gaussian_kernel(alpha, x, 9) for x in xs]\n",
    "plt.plot(xs, kde_curve);"
   ]
  },
  {
   "cell_type": "markdown",
   "metadata": {
    "deletable": false,
    "editable": false
   },
   "source": [
    "In the cell below, plot the 3 kernel density functions corresponding to our 3 data points on the same axis. Use an `alpha` value of 0.5. Recall that our three data points are 2, 4, and 9. \n",
    "\n",
    "**Note:** Make sure to normalize your kernels! This means that the area under each of your kernels should be $\\frac{1}{3}$ since there are three data points.\n",
    "\n",
    "You don't have to use the following hints, but they might be helpful in simplifying your code.\n",
    "\n",
    "**Hint:** The `gaussian_kernel` function can also take a `numpy` array as an argument for `z`.\n",
    "\n",
    "**Hint:** To plot multiple plots at once, you can use `plt.plot(xs, y)` with a two-dimensional array as `y`.\n"
   ]
  },
  {
   "cell_type": "code",
   "execution_count": null,
   "metadata": {
    "nbgrader": {
     "grade": true,
     "grade_id": "cell-fb3e2a6d258ddbf8",
     "locked": false,
     "points": 1,
     "schema_version": 2,
     "solution": true
    },
    "tags": []
   },
   "outputs": [],
   "source": [
    "..."
   ]
  },
  {
   "cell_type": "markdown",
   "metadata": {
    "nbgrader": {
     "grade": false,
     "grade_id": "gaussian-kernel",
     "locked": true,
     "schema_version": 2,
     "solution": false
    }
   },
   "source": [
    "In the cell below, we see a plot that shows the sum of all three of the kernels above. The plot resembles the KDE shown when you called `distplot` function with bandwidth 0.5 earlier. The area under the final curve will be 1 since the area under each of the three normalized kernels is $\\frac{1}{3}$.\n"
   ]
  },
  {
   "cell_type": "code",
   "execution_count": null,
   "metadata": {
    "nbgrader": {
     "grade": true,
     "grade_id": "cell-39b7921225a4bbda",
     "locked": false,
     "points": 1,
     "schema_version": 2,
     "solution": true
    },
    "tags": []
   },
   "outputs": [],
   "source": [
    "# Run this cell to plot the sum of the kernels; no further action is needed.\n",
    "xs = np.linspace(-2, 12, 200)\n",
    "alpha = 0.5\n",
    "kde_curve = np.array([1/3 * gaussian_kernel(alpha, x, data3pts) for x in xs])\n",
    "plt.plot(xs, np.sum(kde_curve, axis=1));"
   ]
  },
  {
   "cell_type": "markdown",
   "metadata": {
    "nbgrader": {
     "grade": false,
     "grade_id": "cell-75f0be696fffcb15",
     "locked": true,
     "schema_version": 2,
     "solution": false
    }
   },
   "source": [
    "Recall that earlier we plotted the kernel density estimation for the logarithm of the income data, as shown again below."
   ]
  },
  {
   "cell_type": "code",
   "execution_count": null,
   "metadata": {
    "nbgrader": {
     "grade": false,
     "grade_id": "cell-5dc1ca49bb365cb7",
     "locked": true,
     "schema_version": 2,
     "solution": false
    }
   },
   "outputs": [],
   "source": [
    "# Run this cell to plot KDE of log income; no further action is needed.\n",
    "ax = sns.displot(data=df, x=np.log10(df['inc']), kind='kde', rug=True)\n",
    "plt.xlabel('Log Gross national income per capita, Atlas method: $: 2016', fontsize=13)\n",
    "plt.title('World Bank Gross National Income Per Capita');"
   ]
  },
  {
   "cell_type": "markdown",
   "metadata": {
    "nbgrader": {
     "grade": false,
     "grade_id": "cell-e2a9298ef9825f6c",
     "locked": true,
     "schema_version": 2,
     "solution": false
    }
   },
   "source": [
    "In the cell below, a similar plot is shown using what was done in 2a. Try out different values of alpha in {0.1, 0.2, 0.3, 0.4, 0.5}. You will see that when `alpha=0.2`, the graph matches the previous graph well, except that the `displot` function hides the KDE values outside the range of the available data. Recall that `alpha` represents the spread of each individual kernel curve, which in turn affects the smoothness of the final KDE plot. When would you expect a smoother plot - when alpha = 0.1 or 0.5?"
   ]
  },
  {
   "cell_type": "code",
   "execution_count": null,
   "metadata": {
    "nbgrader": {
     "grade": true,
     "grade_id": "cell-a1cbcf4340aacbdd",
     "locked": false,
     "points": 1,
     "schema_version": 2,
     "solution": true
    }
   },
   "outputs": [],
   "source": [
    "# Run this cell to plot KDE of log income; try out different bandwidths!\n",
    "xs = np.linspace(1, 6, 200)\n",
    "alpha = 0.5\n",
    "kde_curve = np.array([1/len(df['inc']) * gaussian_kernel(alpha, x, np.log10(df['inc'])) for x in xs])\n",
    "plt.xlabel('Log Gross national income per capita, Atlas method: $: 2016', fontsize=13)\n",
    "plt.ylabel(\"Density\")\n",
    "plt.title('World Bank Gross National Income Per Capita')\n",
    "plt.plot(xs, np.sum(kde_curve, axis = 1));"
   ]
  },
  {
   "cell_type": "markdown",
   "metadata": {
    "nbgrader": {
     "grade": false,
     "grade_id": "cell-ceb8c82d83beab3f",
     "locked": true,
     "schema_version": 2,
     "solution": false
    }
   },
   "source": [
    "<br>\n",
    "\n",
    "---\n",
    "## Question 2b"
   ]
  },
  {
   "cell_type": "markdown",
   "metadata": {
    "nbgrader": {
     "grade": false,
     "grade_id": "cell-82d4cf532a909280",
     "locked": true,
     "schema_version": 2,
     "solution": false
    }
   },
   "source": [
    "In your answers above, you hard-coded a lot of your work. In this problem, you'll build a more general kernel density estimator function."
   ]
  },
  {
   "cell_type": "markdown",
   "metadata": {
    "deletable": false,
    "editable": false
   },
   "source": [
    "Implement the KDE function, which computes:\n",
    "\n",
    "$$\\Large\n",
    "f_\\alpha(x) = \\frac{1}{n} \\sum_{i=1}^n K_\\alpha(x, z_i)\n",
    "$$\n",
    "\n",
    "Where each $z_i$ represents a single datapoint in the collected dataset, $\\alpha$ is a parameter to control the smoothness, and $K_\\alpha$ is the kernel density function passed as `kernel`. Your code should run no longer than a couple of seconds. \n"
   ]
  },
  {
   "cell_type": "code",
   "execution_count": null,
   "metadata": {
    "nbgrader": {
     "grade": false,
     "grade_id": "q3a-answer",
     "locked": false,
     "schema_version": 2,
     "solution": true
    },
    "tags": [
     "student"
    ]
   },
   "outputs": [],
   "source": [
    "def kde(kernel, alpha, x, data):\n",
    "    \"\"\"\n",
    "    Compute the kernel density estimate for the single query point x.\n",
    "\n",
    "    Args:\n",
    "        kernel: a kernel function with 3 parameters: alpha, x, and data.\n",
    "        alpha: the smoothing parameter to pass to the kernel.\n",
    "        x: a single query point (in one dimension).\n",
    "        data: a numpy array of data points.\n",
    "\n",
    "    Returns:\n",
    "        The smoothed estimate at the query point x.\n",
    "    \"\"\"    \n",
    "    ...\n",
    "kde(gaussian_kernel, 1.0, 2.0, np.array([3.0, 4.0, 5.0, 7.0]))"
   ]
  },
  {
   "cell_type": "code",
   "execution_count": null,
   "metadata": {
    "deletable": false,
    "editable": false
   },
   "outputs": [],
   "source": [
    "grader.check(\"q2b\")"
   ]
  },
  {
   "cell_type": "markdown",
   "metadata": {
    "nbgrader": {
     "grade": false,
     "grade_id": "cell-237693c557348d15",
     "locked": true,
     "schema_version": 2,
     "solution": false
    }
   },
   "source": [
    "Assuming you implemented `kde` correctly, the code below should generate the `kde` of the log of the income data as before."
   ]
  },
  {
   "cell_type": "code",
   "execution_count": null,
   "metadata": {
    "nbgrader": {
     "grade": false,
     "grade_id": "cell-cd8fe3ad58eaadda",
     "locked": true,
     "schema_version": 2,
     "solution": false
    }
   },
   "outputs": [],
   "source": [
    "# Run this cell to generate the kde of the log of the income datam; no further action is needed.\n",
    "df['trans_inc'] = np.log10(df['inc'])\n",
    "xs = np.linspace(df['trans_inc'].min(), df['trans_inc'].max(), 1000)\n",
    "curve = [kde(gaussian_kernel, alpha, x, df['trans_inc']) for x in xs]\n",
    "plt.hist(df['trans_inc'], density=True, color='orange')\n",
    "plt.xlabel('Log Gross national income per capita, Atlas method: $: 2016');\n",
    "plt.title('World Bank Gross National Income Per Capita')\n",
    "plt.plot(xs, curve, 'k-');"
   ]
  },
  {
   "cell_type": "markdown",
   "metadata": {
    "nbgrader": {
     "grade": false,
     "grade_id": "cell-e6e9e5afa3654ff7",
     "locked": true,
     "schema_version": 2,
     "solution": false
    }
   },
   "source": [
    "And the code below should show a 3 x 3 set of plots showing the output of the kde for different `alpha` values."
   ]
  },
  {
   "cell_type": "code",
   "execution_count": null,
   "metadata": {
    "nbgrader": {
     "grade": false,
     "grade_id": "q3c-plots",
     "locked": true,
     "schema_version": 2,
     "solution": false
    },
    "tags": [
     "student"
    ]
   },
   "outputs": [],
   "source": [
    "# Run this cell to generate the kde of the log of the income data \n",
    "# with different alphas values, no further action is needed.\n",
    "plt.figure(figsize=(15,15))\n",
    "alphas = np.arange(0.2, 2.0, 0.2)\n",
    "for i, alpha in enumerate(alphas):\n",
    "    plt.subplot(3, 3, i+1)\n",
    "    xs = np.linspace(df['trans_inc'].min(), df['trans_inc'].max(), 1000)\n",
    "    curve = [kde(gaussian_kernel, alpha, x, df['trans_inc']) for x in xs]\n",
    "    plt.hist(df['trans_inc'], density=True, color='orange')\n",
    "    plt.plot(xs, curve, 'k-')\n",
    "plt.show()"
   ]
  },
  {
   "cell_type": "markdown",
   "metadata": {
    "nbgrader": {
     "grade": false,
     "grade_id": "cell-aac6f1e8a7d66932",
     "locked": true,
     "schema_version": 2,
     "solution": false
    }
   },
   "source": [
    "<br>\n",
    "\n",
    "---\n",
    "## Question 2c\n",
    "\n",
    "\n",
    "Let's take a look at another kernel, the Boxcar kernel. The function `boxcar_kernel` is defined below.\n",
    "\n",
    "\\begin{equation} \\Large\n",
    "K_{a}(x, z) =\n",
    "    \\begin{cases}\n",
    "        \\frac{1}{\\alpha}, & \\text{if } -\\frac{\\alpha}{2} \\leq (x-z) \\leq \\frac{\\alpha}{2}\\\\\n",
    "        0, & \\text{otherwise}\n",
    "    \\end{cases}\n",
    "\\end{equation}"
   ]
  },
  {
   "cell_type": "code",
   "execution_count": null,
   "metadata": {
    "nbgrader": {
     "grade": false,
     "grade_id": "q3d-function",
     "locked": true,
     "schema_version": 2,
     "solution": false
    }
   },
   "outputs": [],
   "source": [
    "def boxcar_kernel(alpha, x, z):\n",
    "    \"\"\"\n",
    "    Compute the boxcar density estimate for values in x.\n",
    "\n",
    "    Args:\n",
    "        alpha: the smoothing parameter to pass to the kernel.\n",
    "        x: an array of values whose density will be calculated.\n",
    "        z: center of boxcar function.\n",
    "\n",
    "    Returns:\n",
    "        The smoothed estimate at values of x.\n",
    "    \"\"\"    \n",
    "    return (((x-z)>=-alpha/2)&((x-z)<=alpha/2))/alpha"
   ]
  },
  {
   "cell_type": "markdown",
   "metadata": {
    "nbgrader": {
     "grade": false,
     "grade_id": "interact-instructions",
     "locked": true,
     "schema_version": 2,
     "solution": false
    }
   },
   "source": [
    "Run the cell below to enable interactive plots."
   ]
  },
  {
   "cell_type": "code",
   "execution_count": null,
   "metadata": {
    "nbgrader": {
     "grade": false,
     "grade_id": "interact-code",
     "locked": true,
     "schema_version": 2,
     "solution": false
    }
   },
   "outputs": [],
   "source": [
    "from ipywidgets import interact"
   ]
  },
  {
   "cell_type": "markdown",
   "metadata": {
    "nbgrader": {
     "grade": false,
     "grade_id": "q3d-plot_instructions",
     "locked": true,
     "schema_version": 2,
     "solution": false
    }
   },
   "source": [
    "Now, we can plot the Boxcar and Gaussian kernel functions to see what they look like."
   ]
  },
  {
   "cell_type": "code",
   "execution_count": null,
   "metadata": {
    "nbgrader": {
     "grade": false,
     "grade_id": "q3d-plot",
     "locked": true,
     "schema_version": 2,
     "solution": false
    }
   },
   "outputs": [],
   "source": [
    "x = np.linspace(-10,10,1000)\n",
    "def f(alpha):\n",
    "    plt.plot(x, boxcar_kernel(alpha,x,0), label='Boxcar')\n",
    "    plt.plot(x, gaussian_kernel(alpha,x,0), label='Gaussian')\n",
    "    plt.legend(title='Kernel Function')\n",
    "    plt.show()\n",
    "interact(f, alpha=(1,10,0.1));"
   ]
  },
  {
   "cell_type": "markdown",
   "metadata": {
    "nbgrader": {
     "grade": false,
     "grade_id": "q3d-interactive",
     "locked": true,
     "schema_version": 2,
     "solution": false
    }
   },
   "source": [
    "Using the interactive plot below, compare the two kernel techniques on the data `data3pts` or log income. Assign `demo = 1` to see `data3pts` or `demo = 2` to see log income.\n",
    "(Note: Generating the KDE plot is slow, so you may expect some latency after you move the slider)"
   ]
  },
  {
   "cell_type": "code",
   "execution_count": null,
   "metadata": {},
   "outputs": [],
   "source": [
    "demo = 1 # ... # set this value to 1 or 2\n",
    "\n",
    "if demo == 1:\n",
    "    xs = np.linspace(data3pts.min()-3, data3pts.max()+3, 1000)\n",
    "    def f(alpha_g, alpha_b):\n",
    "        plt.hist(data3pts, density=True, color='orange')\n",
    "        g_curve = [kde(gaussian_kernel, alpha_g, x, data3pts) for x in xs]\n",
    "        plt.plot(xs, g_curve, 'k-', label='Gaussian')\n",
    "        b_curve = [kde(boxcar_kernel, alpha_b, x, data3pts) for x in xs]\n",
    "        plt.plot(xs, b_curve, 'r-', label='Boxcar')\n",
    "        plt.legend(title='Kernel Function')\n",
    "        plt.show()\n",
    "    interact(f, alpha_g=(0.01,.5,0.01), alpha_b=(0.01,3,0.1));\n",
    "else:\n",
    "    xs = np.linspace(df['trans_inc'].min(), df['trans_inc'].max(), 1000)\n",
    "    def f(alpha_g, alpha_b):\n",
    "        plt.hist(df['trans_inc'], density=True, color='orange')\n",
    "        g_curve = [kde(gaussian_kernel, alpha_g, x, df['trans_inc']) for x in xs]\n",
    "        plt.plot(xs, g_curve, 'k-', label='Gaussian')\n",
    "        b_curve = [kde(boxcar_kernel, alpha_b, x, df['trans_inc']) for x in xs]\n",
    "        plt.plot(xs, b_curve, 'r-', label='Boxcar')\n",
    "        plt.legend(title='Kernel Function')\n",
    "        plt.show()\n",
    "    interact(f, alpha_g=(0.01,.5,0.01), alpha_b=(0.01,3,0.1));"
   ]
  },
  {
   "cell_type": "markdown",
   "metadata": {
    "deletable": false,
    "editable": false,
    "nbgrader": {
     "grade": false,
     "grade_id": "cell-9f2cd3a74f8dfc0c",
     "locked": true,
     "schema_version": 2,
     "solution": false
    }
   },
   "source": [
    "Briefly compare and contrast the Gaussian and Boxcar kernels in the cell below. How do the two kernels relate with each other for the same alpha value?"
   ]
  },
  {
   "cell_type": "markdown",
   "metadata": {},
   "source": [
    "_Type your answer here, replacing this text._"
   ]
  },
  {
   "cell_type": "markdown",
   "metadata": {},
   "source": [
    "---\n",
    "# Part 3: Seaborn's `sns.kdeplot` \n",
    "Now that you've explored how KDE is calculated and how it compares to other plots like histograms, scatterplots, boxcar kernels, and rugplots, it's time to practice using `sns.kdeplot` [(documentation)](https://seaborn.pydata.org/generated/seaborn.kdeplot.html)! This lab will explore the 1-dimensional plotting capabilities of `kdeplot` while Homework 4 will explore its 2-dimensional plotting capabilities. "
   ]
  },
  {
   "cell_type": "markdown",
   "metadata": {
    "deletable": false,
    "editable": false
   },
   "source": [
    "---\n",
    "## Question 3a\n",
    "Let's revisit the **income per capita** data from question 1b. In the cell below, use `sns.kdeplot` to create a KDE plot of the income per capita. Don't forget to title the plot and label axes!"
   ]
  },
  {
   "cell_type": "code",
   "execution_count": null,
   "metadata": {
    "tags": []
   },
   "outputs": [],
   "source": [
    "..."
   ]
  },
  {
   "cell_type": "markdown",
   "metadata": {
    "deletable": false,
    "editable": false
   },
   "source": [
    "--- \n",
    "\n",
    "## Question 3b\n",
    "We can see that our curve extends into negative values of our x-axis, which doesn't fully make sense for a variable like the gross national income per capita. This happens because there are a lot of data points concentrated near 0, resulting in a plot that is skewed right. Transforming the plot logarithmically will give us a more symmetric distribution of values that can make it easier to see patterns.\n",
    "\n",
    "Similar to question 1c, make a KDE plot that's scaled logarithmically (base 10). However, instead of manually transforming the data with `np.log10` and assigning the result to the `x=` argument, set the `kdeplot` arguments `x='inc'` and `log_scale=True`."
   ]
  },
  {
   "cell_type": "code",
   "execution_count": null,
   "metadata": {
    "tags": []
   },
   "outputs": [],
   "source": [
    "..."
   ]
  },
  {
   "cell_type": "markdown",
   "metadata": {
    "deletable": false,
    "editable": false
   },
   "source": [
    "--- \n",
    "\n",
    "## Question 3c\n",
    "\n",
    "Compare your KDE plot from question 3b to the one from question 1c shown below: \n",
    "\n",
    "<img src='q1c.png' width=\"600px\" />\n",
    "\n",
    "Despite the graphs having different x-axes, the shape of their KDE plots look very similar. Why do you think that is? \n",
    "\n",
    "**Hint**: Notice the units and scale of the x-axes. Where is the log applied? "
   ]
  },
  {
   "cell_type": "markdown",
   "metadata": {},
   "source": [
    "_Type your answer here, replacing this text._"
   ]
  },
  {
   "cell_type": "markdown",
   "metadata": {
    "nbgrader": {
     "grade": false,
     "grade_id": "finish",
     "locked": true,
     "schema_version": 2,
     "solution": false
    }
   },
   "source": [
    "<hr style=\"border: 5px solid #003262;\" />\n",
    "<hr style=\"border: 1px solid #fdb515;\" />\n",
    "\n",
    "## Congratulations! You have finished Lab 4!"
   ]
  },
  {
   "cell_type": "markdown",
   "metadata": {
    "deletable": false,
    "editable": false
   },
   "source": [
    "## Submission\n",
    "\n",
    "Make sure you have run all cells in your notebook in order before running the cell below, so that all images/graphs appear in the output. The cell below will generate a zip file for you to submit. **Please save before exporting!**"
   ]
  },
  {
   "cell_type": "code",
   "execution_count": null,
   "metadata": {
    "deletable": false,
    "editable": false
   },
   "outputs": [],
   "source": [
    "# Save your notebook first, then run this cell to export your submission.\n",
    "grader.export(pdf=False, run_tests=True)"
   ]
  },
  {
   "cell_type": "markdown",
   "metadata": {},
   "source": [
    " "
   ]
  }
 ],
 "metadata": {
  "_change_revision": 0,
  "_is_fork": false,
  "celltoolbar": "Create Assignment",
  "kernelspec": {
   "display_name": "Python 3 (ipykernel)",
   "language": "python",
   "name": "python3"
  },
  "language_info": {
   "codemirror_mode": {
    "name": "ipython",
    "version": 3
   },
   "file_extension": ".py",
   "mimetype": "text/x-python",
   "name": "python",
   "nbconvert_exporter": "python",
   "pygments_lexer": "ipython3",
   "version": "3.9.13"
  },
  "otter": {
   "OK_FORMAT": true,
   "tests": {
    "q2b": {
     "name": "q2b",
     "points": null,
     "suites": [
      {
       "cases": [
        {
         "code": ">>> np.isclose(kde(gaussian_kernel, 1.0, 2.0, np.array([3.0, 4.0, 5.0, 7.0])), 0.075099)\nTrue",
         "hidden": false,
         "locked": false
        },
        {
         "code": ">>> np.isclose(kde(gaussian_kernel, 2, 5, np.array([1.0, 3.0, 4.0, 5.0, 7.0, 100])), 0.107411)\nTrue",
         "hidden": false,
         "locked": false
        },
        {
         "code": ">>> np.isclose(kde(gaussian_kernel, 100, 370, df['inc']), 0.000248205)\nTrue",
         "hidden": false,
         "locked": false
        }
       ],
       "scored": true,
       "setup": "",
       "teardown": "",
       "type": "doctest"
      }
     ]
    }
   }
  }
 },
 "nbformat": 4,
 "nbformat_minor": 4
}
